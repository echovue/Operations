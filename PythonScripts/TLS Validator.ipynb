{
 "cells": [
  {
   "cell_type": "code",
   "execution_count": null,
   "metadata": {},
   "outputs": [],
   "source": [
    "from urllib.request import ssl, socket\n",
    "import datetime, smtplib"
   ]
  },
  {
   "cell_type": "code",
   "execution_count": null,
   "metadata": {},
   "outputs": [],
   "source": [
    "hostname = \"etsy.com\"\n",
    "port = '443'"
   ]
  },
  {
   "cell_type": "code",
   "execution_count": null,
   "metadata": {},
   "outputs": [],
   "source": [
    "context = ssl.create_default_context()"
   ]
  },
  {
   "cell_type": "code",
   "execution_count": null,
   "metadata": {},
   "outputs": [],
   "source": [
    "with socket.create_connection((hostname, port)) as sock:\n",
    "    with context.wrap_socket(sock, server_hostname = hostname) as ssock:\n",
    "        certificate = ssock.getpeercert()"
   ]
  },
  {
   "cell_type": "code",
   "execution_count": null,
   "metadata": {},
   "outputs": [],
   "source": [
    "certExpires = datetime.datetime.strptime(certificate['notAfter'], '%b %d %H:%M:%S %Y %Z')"
   ]
  },
  {
   "cell_type": "code",
   "execution_count": null,
   "metadata": {},
   "outputs": [],
   "source": [
    "daysToExpiration = (certExpires - datetime.datetime.now()).days"
   ]
  },
  {
   "cell_type": "code",
   "execution_count": null,
   "metadata": {},
   "outputs": [],
   "source": [
    "def send_notification(days_to_expire):\n",
    "    port = 587\n",
    "    smtp_server = \"smtp.acmecorp.com\"\n",
    "    sender_email = \"operations@acmecorp.com\"\n",
    "    receiver_email = \"webmaster@acmecorp.com\"\n",
    "    password = input(\"Type your password and press enter: \")\n",
    "    if days_to_expire == 1:\n",
    "        days = \"1 day\"\n",
    "    else:\n",
    "        days = str(days_to_expire) + \" days\"\n",
    "        \n",
    "    message = \"\"\"\\\n",
    "        Subject: Certificate Expiration\n",
    "\n",
    "        The TLS Certificate for your site expires in {days}\"\"\"\n",
    "\n",
    "    context = ssl.create_default_context()\n",
    "    with smtplib.SMTP(smtp_server, port) as server:\n",
    "        server.starttls(context=context)\n",
    "        server.login(sender_email, password)\n",
    "        server.sendmail(sender_email, \n",
    "                        receiver_email, \n",
    "                        message.format(days=days))"
   ]
  },
  {
   "cell_type": "code",
   "execution_count": null,
   "metadata": {},
   "outputs": [],
   "source": [
    "if daysToExpiration == 7 or daysToExpiration == 1:\n",
    "    send_notification(daysToExpiration)"
   ]
  },
  {
   "cell_type": "code",
   "execution_count": null,
   "metadata": {},
   "outputs": [],
   "source": []
  }
 ],
 "metadata": {
  "kernelspec": {
   "display_name": "Python 3",
   "language": "python",
   "name": "python3"
  },
  "language_info": {
   "codemirror_mode": {
    "name": "ipython",
    "version": 3
   },
   "file_extension": ".py",
   "mimetype": "text/x-python",
   "name": "python",
   "nbconvert_exporter": "python",
   "pygments_lexer": "ipython3",
   "version": "3.6.5"
  }
 },
 "nbformat": 4,
 "nbformat_minor": 2
}
